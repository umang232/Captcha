{
  "nbformat": 4,
  "nbformat_minor": 0,
  "metadata": {
    "colab": {
      "name": "Captcha.ipynb",
      "provenance": [],
      "collapsed_sections": [],
      "authorship_tag": "ABX9TyOZBlOFzjriyMUtGVXnmEEr",
      "include_colab_link": true
    },
    "kernelspec": {
      "name": "python3",
      "display_name": "Python 3"
    }
  },
  "cells": [
    {
      "cell_type": "markdown",
      "metadata": {
        "id": "view-in-github",
        "colab_type": "text"
      },
      "source": [
        "<a href=\"https://colab.research.google.com/github/umang232/Captcha/blob/master/Captcha.ipynb\" target=\"_parent\"><img src=\"https://colab.research.google.com/assets/colab-badge.svg\" alt=\"Open In Colab\"/></a>"
      ]
    },
    {
      "cell_type": "code",
      "metadata": {
        "id": "lAqScc86TDpa",
        "colab_type": "code",
        "colab": {}
      },
      "source": [
        "!pip install captcha"
      ],
      "execution_count": null,
      "outputs": []
    },
    {
      "cell_type": "code",
      "metadata": {
        "id": "m1QQuGUoTCme",
        "colab_type": "code",
        "colab": {}
      },
      "source": [
        "from captcha.image import ImageCaptcha\n",
        "from google.colab import files\n",
        "import matplotlib.pyplot as plt\n",
        "import matplotlib.image as mpimg\n",
        "import random\n",
        "\n",
        " "
      ],
      "execution_count": 19,
      "outputs": []
    },
    {
      "cell_type": "code",
      "metadata": {
        "id": "muhlRIkNdVF2",
        "colab_type": "code",
        "colab": {}
      },
      "source": [
        "image = ImageCaptcha()\n",
        "\n",
        "#Generate an Image Captcha of the given characters.\n",
        "data = image.generate('1234')\n",
        "\n",
        "\n",
        "#Generate and write an image CAPTCHA data to the output.\n",
        "def genCap(size):\n",
        "  list1 = []\n",
        "  for char in range(size):\n",
        "    next_symbol = random.randint(1,10)\n",
        "    if next_symbol < 6:\n",
        "      dig = random.randint(0,9)\n",
        "      list1.append(str(dig))\n",
        "    else:\n",
        "      alp = random.randint(65,90)\n",
        "      alpha = chr(alp)\n",
        "      list1.append(alpha)\n",
        "    tp = ''.join(list1)\n",
        "  return tp\n",
        "\n",
        "size = random.randint(3,10)\n",
        "str1 = genCap(size)\n",
        "print(str1)"
      ],
      "execution_count": null,
      "outputs": []
    },
    {
      "cell_type": "code",
      "metadata": {
        "id": "_LoW2m6KdfTA",
        "colab_type": "code",
        "colab": {}
      },
      "source": [
        "image.write(str1, 'out.png')\n",
        "\n",
        "\n",
        "\n",
        "#Using matplotlib to display the captcha\n",
        "plt.axis(\"off\")\n",
        "plt.imshow(mpimg.imread('out.png'))\n",
        "#files.download( \"out.png\" "
      ],
      "execution_count": null,
      "outputs": []
    }
  ]
}